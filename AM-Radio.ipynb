{
 "cells": [
  {
   "cell_type": "markdown",
   "id": "ae905c9c-f3b6-4d62-bc68-09db085fe91c",
   "metadata": {},
   "source": [
    "# ELEC 221 Assignment 6: radio "
   ]
  },
  {
   "cell_type": "code",
   "execution_count": 1,
   "id": "294a2119-bb86-442f-b340-c34071caaca6",
   "metadata": {},
   "outputs": [],
   "source": [
    "import numpy as np\n",
    "import matplotlib.pyplot as plt\n",
    "from scipy.io import wavfile\n",
    "from IPython.display import Audio, Image\n",
    "from IPython.core.display import HTML"
   ]
  },
  {
   "cell_type": "markdown",
   "id": "ab129db3-d847-4141-a891-f28dfc60df21",
   "metadata": {},
   "source": [
    "In this problem, you'll implement a simulated AM radio system that is a little more realistic in terms of the operation of the receiver and demodulation process. \n",
    "\n",
    "Suppose you and your colleague have been put in charge of a radio broadcast company that manages 5 stations at the following frequencies (in kHz): 580, 600, 620, 640, and 660. Note that typically, AM is used for talk radio, which requires a bandwidth of ~10 kHz. However to make things interesting, we're going to use music which requires a wider range."
   ]
  },
  {
   "cell_type": "markdown",
   "id": "7bdb27be-7125-4c56-bc16-ff23335d9936",
   "metadata": {},
   "source": [
    "**Question 0.1 (1 point)**. To make things more meaningful for you (hopefully!), choose five songs, perhaps of different genres, for your radio stations. Select ~4-5s clips of each, and use a sampling rate of somewhere between 40000-48000."
   ]
  },
  {
   "cell_type": "code",
   "execution_count": null,
   "id": "23306f7d-b3fa-4299-b34d-bce37edaa73f",
   "metadata": {},
   "outputs": [],
   "source": [
    "# Prepare some samples and load them in here.\n",
    "# input_audio = wavfile.read(\"my_song.wav\") \n",
    "\n",
    "# The result of importing a wavfile should be a tuple of two elements:\n",
    "# the sample rate, and the audio signal, which may be have multiple channels.\n",
    "# sample_rate = input_audio[0]\n",
    "\n",
    "# My audio sample had multiple channels. Yours may not.\n",
    "# In my case, I took just one of these channels, and converted it from \n",
    "# integer values to floats.\n",
    "# channel_0 = input_audio[1][:, 0]\n",
    "# song_1 = np.array(channel_0, dtype=np.float64) / np.max(channel_0)"
   ]
  },
  {
   "cell_type": "code",
   "execution_count": 16,
   "id": "ff25b872-688d-433b-a84a-b766506ef057",
   "metadata": {},
   "outputs": [
    {
     "name": "stderr",
     "output_type": "stream",
     "text": [
      "C:\\Users\\1mack\\AppData\\Local\\Temp\\ipykernel_20872\\4255260337.py:1: WavFileWarning: Chunk (non-data) not understood, skipping it.\n",
      "  input_audio0 = wavfile.read(\"flashingLights.wav\")\n",
      "C:\\Users\\1mack\\AppData\\Local\\Temp\\ipykernel_20872\\4255260337.py:2: WavFileWarning: Chunk (non-data) not understood, skipping it.\n",
      "  input_audio1 = wavfile.read(\"favorite.wav\")\n",
      "C:\\Users\\1mack\\AppData\\Local\\Temp\\ipykernel_20872\\4255260337.py:3: WavFileWarning: Chunk (non-data) not understood, skipping it.\n",
      "  input_audio2 = wavfile.read(\"newYork.wav\")\n",
      "C:\\Users\\1mack\\AppData\\Local\\Temp\\ipykernel_20872\\4255260337.py:4: WavFileWarning: Chunk (non-data) not understood, skipping it.\n",
      "  input_audio3 = wavfile.read(\"photograph.wav\")\n",
      "C:\\Users\\1mack\\AppData\\Local\\Temp\\ipykernel_20872\\4255260337.py:5: WavFileWarning: Chunk (non-data) not understood, skipping it.\n",
      "  input_audio4 = wavfile.read(\"redroom.wav\")\n"
     ]
    }
   ],
   "source": [
    "input_audio0 = wavfile.read(\"flashingLights.wav\")\n",
    "input_audio1 = wavfile.read(\"favorite.wav\")\n",
    "input_audio2 = wavfile.read(\"newYork.wav\")\n",
    "input_audio3 = wavfile.read(\"photograph.wav\")\n",
    "input_audio4 = wavfile.read(\"redroom.wav\")\n",
    "\n",
    "sample_rate = input_audio[0]\n",
    "sample_rate1 = input_audio1[0]\n",
    "sample_rate2 = input_audio2[0]\n",
    "sample_rate3 = input_audio3[0]\n",
    "sample_rate4 = input_audio4[0]\n",
    "\n",
    "channel_0 = input_audio[1][:,0]\n",
    "channel_01 = input_audio1[1][:,0]\n",
    "channel_02 = input_audio2[1][:,0]\n",
    "channel_03 = input_audio3[1][:,0]\n",
    "channel_04 = input_audio4[1][:,0]\n",
    "\n",
    "song_1 = np.array(channel_0, dtype=np.float64) / np.max(channel_0)\n",
    "song_1_audio = Audio(song_1, rate= sample_rate)\n",
    "\n",
    "song_2 = np.array(channel_01, dtype=np.float64) / np.max(channel_01)\n",
    "song_2_audio = Audio(song_2, rate = sample_rate1)\n",
    "\n",
    "song_3 = np.array(channel_02, dtype=np.float64) / np.max(channel_02)\n",
    "song_3_audio = Audio(song_3, rate = sample_rate2)\n",
    "\n",
    "song_4 = np.array(channel_03, dtype=np.float64) / np.max(channel_03)\n",
    "song_3_audio = Audio(song_4, rate = sample_rate3)\n",
    "\n",
    "\n",
    "song_5 = np.array(channel_04, dtype=np.float64) / np.max(channel_04)\n",
    "song_3_audio = Audio(song_5, rate = sample_rate4)\n"
   ]
  },
  {
   "cell_type": "markdown",
   "id": "955eec96-6037-402a-8b29-67314422da56",
   "metadata": {},
   "source": [
    "## Part 1. The broadcast"
   ]
  },
  {
   "cell_type": "markdown",
   "id": "1eb96553-1e57-4c7f-ac97-62f829e68c38",
   "metadata": {},
   "source": [
    "We will begin by setting up the broadcast process according to the following block diagram:\n",
    "\n",
    "<img src=\"broadcast.png\" width=700>\n",
    "\n",
    "We'll do this in a couple different steps.\n",
    "\n",
    "**Question 1.1 (1 point)**. First, design a lowpass filter to reduce the bandwidth of a signal to within the acceptable range of our radio stations."
   ]
  },
  {
   "cell_type": "code",
   "execution_count": 30,
   "id": "e55c0059-8650-4386-9efe-067d4d570dd4",
   "metadata": {},
   "outputs": [],
   "source": [
    "def reduce_signal_bandwidth(signal):\n",
    "    \"\"\"Reduce the bandwidth of a signal to within a ~20 kHz band.\n",
    "    \n",
    "    Here, 20 kHz corresponds to the space a signal will take when considering\n",
    "    both positive and negative frequencies, like we have seen during the \n",
    "    amplitude modulation lectures in class. \n",
    "    \n",
    "    It is up to you to decide how to filter it. You may choose to use an \n",
    "    ideal brick wall filter, or a more realistic non-ideal filter (it doesn't\n",
    "    need to be exactly 20 kHz wide, just something appropriate for the\n",
    "    application).\n",
    "    \n",
    "    Args:\n",
    "        signal (array[float]): A real-valued signal.\n",
    "        \n",
    "    Returns:\n",
    "        array[float]: A signal that has been filtered so that its spectrum is \n",
    "        band-limited. \n",
    "    \"\"\"\n",
    "    frequencies = np.fft.fftfreq(signal)\n",
    "    fourier_spectrum = np.fft.fft(signal)\n",
    "    modified_spectrum = np.array([0 if(np.abs(frequencies[index]) > 10) else fourier_spectrum[index] for index in range(len(fourier_spectrum))])\n",
    "    return np.fft.ifft(modified_spectrum)\n",
    "    "
   ]
  },
  {
   "cell_type": "markdown",
   "id": "e9fa60d0-8625-4cad-8833-00e7d84f81f0",
   "metadata": {},
   "source": [
    "**Question 1.2 (1 point)** Implement a function that performs sinusoidal amplitude modulation (with a $\\cos$ carrier signal) of a signal into the frequency range of a desired radio station."
   ]
  },
  {
   "cell_type": "code",
   "execution_count": 2,
   "id": "e7700f9d-3610-4059-b110-edd439df33e3",
   "metadata": {},
   "outputs": [],
   "source": [
    "def sinusoidal_amplitude_modulation(signal, station_frequency, phase=0.0):\n",
    "    \"\"\"Modulate a signal up to the frequency of a desired AM radio station.\n",
    "    \n",
    "    The amplitude modulation should have the form:\n",
    "       y(t) = x(t) * c(t) = x(t) * cos(2 * π * f_c * t + θ_c) \n",
    "    where f_c is the carrier (station) frequency, and θ_c is a phase.\n",
    "    \n",
    "    Args:\n",
    "        signal (array[float]): A real-valued signal.\n",
    "        station_frequency (int): The (carrier) frequency of the station, in kHz.\n",
    "        phase (float): The phase of the carrier signal. \n",
    "        \n",
    "    Returns:\n",
    "        array[float]: The modulated signal.\n",
    "    \"\"\"\n",
    "    omega = 2*np.pi*station_frequency\n",
    "    modulated_signal = [signal[time]*np.cos(omega*time + phase) for time in range(len(signal))]\n",
    "    return modulated_signal\n",
    "    "
   ]
  },
  {
   "cell_type": "markdown",
   "id": "35320396-1bd2-47bd-b0ff-e864a412f4c9",
   "metadata": {},
   "source": [
    "**Question 1.3 (1 point)**. Your radio company will use frequency-division multiplexing (FDM) to send multiple signals over the same channel. Using the frequencies listed above, implement a broadcast (transmission) system that takes a set of signals as input, and outputs the full radio broadcast."
   ]
  },
  {
   "cell_type": "code",
   "execution_count": null,
   "id": "058a3eb2-c41a-48e7-a149-97c8f2b5433f",
   "metadata": {},
   "outputs": [],
   "source": [
    "def broadcast(signals):\n",
    "    \"\"\"Broadcast a set of signals at different frequencies to simulate \n",
    "    a set of radio stations.\n",
    "    \n",
    "    This function should:\n",
    "      - reduce the bandwidth of each of the provided signals\n",
    "      - modulate each one to the correct frequency range\n",
    "      - perform FDM to generate a combined output signal to be broadcast\n",
    "    \n",
    "    Args:\n",
    "        signals (list[array[float]]): A list of signals to be transmitted. \n",
    "             Assume that they are provided in order of increasing station frequency.\n",
    "    \n",
    "    Returns:\n",
    "        array[float]: A single channel contain the frequency-division multiplexed\n",
    "        set of signals.\n",
    "    \"\"\"\n",
    "    return"
   ]
  },
  {
   "cell_type": "markdown",
   "id": "773cd4bd-2528-43e8-bbd6-3bb5d264d9ec",
   "metadata": {},
   "source": [
    "## Part 2. A simple receiver"
   ]
  },
  {
   "cell_type": "markdown",
   "id": "83cc189c-65ff-48c3-a9f8-1a20178712a1",
   "metadata": {},
   "source": [
    "In order to test your broadcasting setup, let's implement a simple synchronous demodulation system."
   ]
  },
  {
   "cell_type": "markdown",
   "id": "baa0c084-e310-46ed-bff5-61974d1de4b4",
   "metadata": {},
   "source": [
    "**Question 2.1 (1 point)** Complete the function below to implement the synchronous demodulation system that we described in class (see the docstring below for details). "
   ]
  },
  {
   "cell_type": "code",
   "execution_count": 1,
   "id": "fe5dc5b8-9a16-49a9-92cd-25ca9698fd4b",
   "metadata": {},
   "outputs": [],
   "source": [
    "def simple_receiver(broadcast, station_frequency, phase=0.0, bandpass=True):\n",
    "    \"\"\"Demodulate the radio broadcast and extract a desired station.\n",
    "    \n",
    "    This function should:\n",
    "      - apply a bandpass filter (if specified) to the signal to extract\n",
    "        only the parts of the spectrum in the desired station's frequency range\n",
    "      - demodulate with a sinusoidal carrier (use cos) at the desired frequency\n",
    "      - apply a low-pass filter with the appropriate gain to recover the signal\n",
    "    \n",
    "    Args:\n",
    "        broadcast (array[float]): A radio broadcast consisting of five channels\n",
    "            that have been FD multiplexed.\n",
    "        station_frequency (int): The frequency (in kHz) of the radio station.\n",
    "        phase (float): The phase of the demodulating signal.\n",
    "        bandpass (bool): Whether or not to apply a bandpass filter before\n",
    "            demodulating and filtering.\n",
    "    \n",
    "    Returns:\n",
    "        array[float]: The signal of the radio station at the desired frequency.\n",
    "    \"\"\"\n",
    "    return"
   ]
  },
  {
   "cell_type": "markdown",
   "id": "0ed4580d-83f9-4fbf-a11c-18ba0c427f0d",
   "metadata": {},
   "source": [
    "**Question 2.2 (0.5 point)**. Test your demodulation function below to extract the 600 kHz station."
   ]
  },
  {
   "cell_type": "code",
   "execution_count": null,
   "id": "5ef4c5a6-1f92-4179-a99c-6a78c38c8fec",
   "metadata": {},
   "outputs": [],
   "source": []
  },
  {
   "cell_type": "markdown",
   "id": "cf2ab6d4-4508-4191-8c12-2ab8df1d75f1",
   "metadata": {},
   "source": [
    "**Question 2.3 (0.5 point)**. Test your demodulation function with a non-zero phase; what happens to the output signal when the modulation and demodulation are not perfectly in sync?"
   ]
  },
  {
   "cell_type": "code",
   "execution_count": null,
   "id": "2b88bb0e-0033-46fd-b52c-b785efe0aadd",
   "metadata": {},
   "outputs": [],
   "source": []
  },
  {
   "cell_type": "markdown",
   "id": "5aa7efe8-0c5c-42db-8cd8-b69f4fc1d382",
   "metadata": {},
   "source": []
  },
  {
   "cell_type": "markdown",
   "id": "a96d0e31-214b-4e3e-b776-3750137e0770",
   "metadata": {},
   "source": [
    "**Question 2.4 (0.5 point)**. Set `bandpass=False` and test the demodulation; how does it sound?"
   ]
  },
  {
   "cell_type": "code",
   "execution_count": null,
   "id": "7b374647-ab9a-460f-9f53-ceb62fac5f49",
   "metadata": {},
   "outputs": [],
   "source": []
  },
  {
   "cell_type": "markdown",
   "id": "f37ac5db-9b12-4701-8538-141477f2a26b",
   "metadata": {},
   "source": [
    "**Question 2.5 (0.5 point)**. Try demodulating with an invalid station frequency (e.g., 590, 610, anything that sits in between our allotted values). Does this sound like you expect?"
   ]
  },
  {
   "cell_type": "code",
   "execution_count": null,
   "id": "4eb1ffca-481e-4698-8e0f-28624cad3abd",
   "metadata": {},
   "outputs": [],
   "source": []
  },
  {
   "cell_type": "markdown",
   "id": "a1ec200e-5844-4cba-9d7e-b3a7e2077fcd",
   "metadata": {},
   "source": [
    "## Part 3: the superheterodyne receiver"
   ]
  },
  {
   "cell_type": "markdown",
   "id": "e60e9ad6-0350-4291-a5ed-25c92fdb7333",
   "metadata": {},
   "source": [
    "In practice, AM radio is demultiplexed and demodulated by a system called the [superheterodyne receiver](https://en.wikipedia.org/wiki/Superheterodyne_receiver) (or superhet for short). Consider the (simplified) diagram below (there should in principle be some amplifiers in here, but we will ignore them):\n",
    "\n",
    "<img src=\"superhet.png\" width=\"800\">"
   ]
  },
  {
   "cell_type": "markdown",
   "id": "a2ef5fdb-a517-4c21-9805-077775f2fd27",
   "metadata": {},
   "source": [
    "Here, $y(t)$ corresponds to the multiplexed signal that your broadcast outputs. This is put through a coarse tunable bandpass filter (this corresponds to you turning the radio dial), then mixed with a variable-frequency local oscillator to produce a signal centered at an intermediate frequency (IF) of 455 kHz. Said signal is then put through a fixed bandpass filter before being sent to the demodulator.\n",
    "\n",
    "**Question 3.0 (0.5 point)**: Why do you think this kind of setup is used; why not just use a simple tunable filter from the get go? (You may need to do a little research on the history of the development of radio.)"
   ]
  },
  {
   "cell_type": "markdown",
   "id": "cd0a1130-0299-4b58-adeb-d048c0523142",
   "metadata": {},
   "source": []
  },
  {
   "cell_type": "markdown",
   "id": "40ce9959-a93f-4bdd-a5f4-9f880216b526",
   "metadata": {},
   "source": [
    "**Question 3.1 (1 point)**: Implement the heterodyning process in the the graphic above. The function should take the multiplexed signal as input and a desired radio station frequency, and output the demodulated audio signal."
   ]
  },
  {
   "cell_type": "code",
   "execution_count": null,
   "id": "1b24f3c7-2e30-4243-8a6b-f4ef4b61fb2e",
   "metadata": {},
   "outputs": [],
   "source": [
    "def superhet_receiver(radio_broadcast, station_frequency):\n",
    "    \"\"\"Implement a simplified superheterodyne receiver to extract a desired station.\n",
    "    \n",
    "    This function should:\n",
    "      - apply a bandpass filter to the signal to extract the correct \n",
    "        frequency regime \n",
    "      - use a local oscillator (frequency related to the bandpass) to yield an\n",
    "        intermediate frequency signal at 455 kHz\n",
    "      - apply a fixed bandpass filter and then demodulate to recover the station\n",
    "    \n",
    "    Args:\n",
    "        broadcast (array[float]): A radio broadcast consisting of five channels\n",
    "            that have been FD multiplexed.\n",
    "        station_frequency (int): The frequency (in kHz) of the radio station.\n",
    "    \n",
    "    Returns:\n",
    "        array[float]: The signal of the radio station at the desired frequency.\n",
    "    \"\"\"\n",
    "    return"
   ]
  },
  {
   "cell_type": "markdown",
   "id": "b36c33ee-6356-4312-93f0-ae373e794d65",
   "metadata": {},
   "source": [
    "**Question 3.2 (0.5 point)**: Let's put everything together: below, use the broadcast function to create a signal, and then pass it to the superheterodyne receiver to play your favourite station. "
   ]
  },
  {
   "cell_type": "code",
   "execution_count": null,
   "id": "462206a6-10d4-41ee-b361-dc481d5c0bd6",
   "metadata": {},
   "outputs": [],
   "source": []
  }
 ],
 "metadata": {
  "kernelspec": {
   "display_name": "Python 3.9.13 ('base')",
   "language": "python",
   "name": "python3"
  },
  "language_info": {
   "codemirror_mode": {
    "name": "ipython",
    "version": 3
   },
   "file_extension": ".py",
   "mimetype": "text/x-python",
   "name": "python",
   "nbconvert_exporter": "python",
   "pygments_lexer": "ipython3",
   "version": "3.9.13"
  },
  "vscode": {
   "interpreter": {
    "hash": "a5531a79340effd05fecd029886ec7807612fbaa5fd4e053a1b159d9e0f084d6"
   }
  }
 },
 "nbformat": 4,
 "nbformat_minor": 5
}
